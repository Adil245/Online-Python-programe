{
  "nbformat": 4,
  "nbformat_minor": 0,
  "metadata": {
    "colab": {
      "name": "Assignment#1.ipynb",
      "provenance": []
    },
    "kernelspec": {
      "name": "python3",
      "display_name": "Python 3"
    },
    "language_info": {
      "name": "python"
    }
  },
  "cells": [
    {
      "cell_type": "code",
      "execution_count": 3,
      "metadata": {
        "colab": {
          "base_uri": "https://localhost:8080/"
        },
        "id": "or3IlXIegOmG",
        "outputId": "0bb29e38-4cd9-4fd2-83b3-d8b36cb40a86"
      },
      "outputs": [
        {
          "output_type": "stream",
          "name": "stdout",
          "text": [
            "\n",
            "Twinkel,twinkel, little star,\n",
            "      How I wonder what you are!\n",
            "              up above the world so high,\n",
            "              like a diamond in the sky.\n",
            "Twinkel,twinkel, little star,\n",
            "      How I wonder what you are!\n"
          ]
        }
      ],
      "source": [
        "# Question 1\n",
        "print('''\n",
        "Twinkel,twinkel, little star,\n",
        "      How I wonder what you are!\n",
        "              up above the world so high,\n",
        "              like a diamond in the sky.\n",
        "Twinkel,twinkel, little star,\n",
        "      How I wonder what you are!''')"
      ]
    },
    {
      "cell_type": "code",
      "source": [
        "# Question 2\n",
        "import sys\n",
        "print(sys.version)"
      ],
      "metadata": {
        "colab": {
          "base_uri": "https://localhost:8080/"
        },
        "id": "plm0HHKYh62E",
        "outputId": "fee77399-a359-4dcc-dcc0-a6450e360d9f"
      },
      "execution_count": 5,
      "outputs": [
        {
          "output_type": "stream",
          "name": "stdout",
          "text": [
            "3.7.12 (default, Sep 10 2021, 00:21:48) \n",
            "[GCC 7.5.0]\n"
          ]
        }
      ]
    },
    {
      "cell_type": "code",
      "source": [
        "# Question 3\n",
        "import datetime\n",
        "now = datetime.datetime.now()\n",
        "print (\"Current date and time : \")\n",
        "print (now.strftime(\"%d-%m-%Y %H:%M:%S\"))"
      ],
      "metadata": {
        "id": "-saPucPZiui2",
        "outputId": "46751fac-711a-4745-c2a4-aa93c108f5ac",
        "colab": {
          "base_uri": "https://localhost:8080/"
        }
      },
      "execution_count": 6,
      "outputs": [
        {
          "output_type": "stream",
          "name": "stdout",
          "text": [
            "Current date and time : \n",
            "31-12-2021 17:32:01\n"
          ]
        }
      ]
    },
    {
      "cell_type": "code",
      "source": [
        "#Question 4\n",
        "radius = float(input(\"Enter the radius: \"))\n",
        "area = 3.14*radius**2\n",
        "print('Area of Circle is : ', area)\n"
      ],
      "metadata": {
        "id": "Ms4EwBn3jPUj",
        "outputId": "5a8cecef-0a3e-4f03-a836-d6fb04874f27",
        "colab": {
          "base_uri": "https://localhost:8080/"
        }
      },
      "execution_count": 9,
      "outputs": [
        {
          "output_type": "stream",
          "name": "stdout",
          "text": [
            "Enter the radius: 1.3\n",
            "Area of Circle is :  5.3066\n"
          ]
        }
      ]
    },
    {
      "cell_type": "code",
      "source": [
        "#Question 5\n",
        "fname = input(\"Enter the First Name: \")\n",
        "lname = input(\"Enter the Last Name: \")\n",
        "print('Original name: ',fname, lname)\n",
        "print('reversed name: ',lname, fname)"
      ],
      "metadata": {
        "id": "lNhqLz0IkZnW",
        "outputId": "220baf5f-bbd4-473f-a890-3050fa6302d4",
        "colab": {
          "base_uri": "https://localhost:8080/"
        }
      },
      "execution_count": 10,
      "outputs": [
        {
          "output_type": "stream",
          "name": "stdout",
          "text": [
            "Enter the First Name: M.\n",
            "Enter the Last Name: adil\n",
            "Original name:  M. adil\n",
            "reversed name:  adil M.\n"
          ]
        }
      ]
    },
    {
      "cell_type": "code",
      "source": [
        "#Question 6\n",
        "x = int(input('Enter first value: '))\n",
        "y = int(input('Enter 2nd value: '))\n",
        "z=x+y\n",
        "print('Addition =',z)"
      ],
      "metadata": {
        "id": "kupNyVdIlNuc",
        "outputId": "1c0d5a6c-acc0-4be6-ab12-d058cd76aebf",
        "colab": {
          "base_uri": "https://localhost:8080/"
        }
      },
      "execution_count": 11,
      "outputs": [
        {
          "output_type": "stream",
          "name": "stdout",
          "text": [
            "Enter first value: 3\n",
            "Enter 2nd value: 5\n",
            "Addition = 8\n"
          ]
        }
      ]
    }
  ]
}